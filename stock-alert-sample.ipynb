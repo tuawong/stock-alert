{
 "cells": [
  {
   "cell_type": "code",
   "execution_count": 1,
   "metadata": {},
   "outputs": [],
   "source": [
    "from __future__ import annotations\n",
    "\n",
    "from pathlib import Path\n",
    "WORK_DIR = Path.cwd()\n",
    "\n",
    "import numpy as np\n",
    "import pandas as pd\n",
    "import requests\n",
    "\n",
    "import matplotlib.pyplot as plt\n",
    "import seaborn as sns\n",
    "from tqdm import tqdm\n",
    "\n",
    "import smtplib"
   ]
  },
  {
   "cell_type": "markdown",
   "metadata": {},
   "source": [
    "## Testing Alpha Vantage API"
   ]
  },
  {
   "cell_type": "code",
   "execution_count": 2,
   "metadata": {},
   "outputs": [],
   "source": [
    "from alpha_vantage.timeseries import TimeSeries\n",
    "\n",
    "ts = TimeSeries(key='UX2OT39HH6HK14LB')\n",
    "data, meta_data = ts.get_intraday('AAPL')"
   ]
  },
  {
   "cell_type": "code",
   "execution_count": 3,
   "metadata": {},
   "outputs": [],
   "source": [
    "import numpy as np\n",
    "import pandas as pd\n",
    "import requests\n",
    "import time\n",
    "\n",
    "class AlphaVantageDataLoader():\n",
    "    def __init__(\n",
    "                 self, \n",
    "                 key: str):\n",
    "        self.key=key\n",
    "\n",
    "    \n",
    "    def load_stock_data(self,\n",
    "        tickers: list = [],\n",
    "        frequency: str = 'daily', \n",
    "        output_size: str = 'full'\n",
    "        ) -> dict: \n",
    "\n",
    "        freq_dict = {'intraday': 'TIME_SERIES_INTRADAY',\n",
    "                     'daily': 'TIME_SERIES_DAILY',\n",
    "                     'weekly': 'TIME_SERIES_WEEKLY',\n",
    "                     'monthly': 'TIME_SERIES_MONTHLY'}\n",
    "        \n",
    "        if type(tickers) == str:\n",
    "            tickers = [tickers]\n",
    "\n",
    "        start = time.time()\n",
    "        meta_dict = {} \n",
    "        df_dict = {}\n",
    "        count=0\n",
    "        \n",
    "        for num, ticker in tqdm(enumerate(tickers)):\n",
    "            link = f'https://www.alphavantage.co/query?function={freq_dict[frequency]}&symbol={ticker}&outputsize={output_size}&apikey={self.key}'\n",
    "            stock = requests.get(link)\n",
    "            keys_list = list(stock.json().keys())\n",
    "            \n",
    "            try:\n",
    "                data, metadata = stock.json()[keys_list[-1]], stock.json()[keys_list[0]]\n",
    "\n",
    "                df = pd.DataFrame(data).T\n",
    "                df.columns = [col.split(' ')[-1] for col in df.columns]\n",
    "                df = df.apply(pd.to_numeric)\n",
    "\n",
    "                meta_dict[ticker] = meta_data\n",
    "                df_dict[ticker]= df\n",
    "                count+=1\n",
    "            except:\n",
    "                pass\n",
    "\n",
    "            #Alpha Vantage only allows 5 API call per minute\n",
    "            if (count+1)%5==0: \n",
    "                end = time.time()\n",
    "                wait_time = (start+60) - end\n",
    "                time.sleep(wait_time)\n",
    "                start = time.time()\n",
    "        \n",
    "        self.meta = meta_dict\n",
    "\n",
    "        return df_dict\n"
   ]
  },
  {
   "cell_type": "code",
   "execution_count": 4,
   "metadata": {},
   "outputs": [],
   "source": [
    "ticker = pd.read_csv(WORK_DIR/'TSX.txt', sep='\\t')"
   ]
  },
  {
   "cell_type": "code",
   "execution_count": 5,
   "metadata": {},
   "outputs": [],
   "source": [
    "import random\n",
    "\n",
    "ticker_list = ticker.loc[(~ticker.Symbol.str.contains('PR'))&\n",
    "                           (~ticker.Description.str.contains('ETF'))&\n",
    "                           (~ticker.Description.str.contains('Fund'))&\n",
    "                           (~ticker.Description.str.contains('hdg'))]['Symbol'].tolist()\n",
    "\n",
    "sampled_ticker = random.sample(ticker_list, 10)"
   ]
  },
  {
   "cell_type": "code",
   "execution_count": 6,
   "metadata": {},
   "outputs": [
    {
     "name": "stderr",
     "output_type": "stream",
     "text": [
      "10it [00:06,  1.65it/s]\n"
     ]
    }
   ],
   "source": [
    "# Initially wanted to use intraday data but intraday from alpha vantage doesn't seem to work for canadian stocks\n",
    "loader = AlphaVantageDataLoader(key='UX2OT39HH6HK14LB')\n",
    "stock_data = loader.load_stock_data(tickers=sampled_ticker)"
   ]
  },
  {
   "cell_type": "code",
   "execution_count": 7,
   "metadata": {},
   "outputs": [
    {
     "data": {
      "text/plain": [
       "['NEO.TO',\n",
       " 'CJT.DB.D.TO',\n",
       " 'AH.WT.TO',\n",
       " 'MRT.UN.TO',\n",
       " 'BSX.TO',\n",
       " 'AR.TO',\n",
       " 'PSK.TO',\n",
       " 'GWO.TO',\n",
       " 'SVM.TO',\n",
       " 'LGT.A.TO']"
      ]
     },
     "execution_count": 7,
     "metadata": {},
     "output_type": "execute_result"
    }
   ],
   "source": [
    "sampled_ticker"
   ]
  },
  {
   "cell_type": "code",
   "execution_count": 8,
   "metadata": {},
   "outputs": [
    {
     "data": {
      "text/plain": [
       "dict_keys(['NEO.TO'])"
      ]
     },
     "execution_count": 8,
     "metadata": {},
     "output_type": "execute_result"
    }
   ],
   "source": [
    "stock_data.keys()"
   ]
  },
  {
   "cell_type": "markdown",
   "metadata": {},
   "source": [
    "### Value Threshold Announcement`"
   ]
  },
  {
   "cell_type": "code",
   "execution_count": 17,
   "metadata": {},
   "outputs": [
    {
     "name": "stderr",
     "output_type": "stream",
     "text": [
      "2it [00:06,  3.38s/it]\n"
     ]
    }
   ],
   "source": [
    "# Initially wanted to use intraday data but intraday from alpha vantage doesn't seem to work for canadian stocks\n",
    "loader = AlphaVantageDataLoader(key='UX2OT39HH6HK14LB')\n",
    "stock_data = loader.load_stock_data(tickers=['BB.TO', 'CGX.TO'])"
   ]
  },
  {
   "cell_type": "code",
   "execution_count": 74,
   "metadata": {},
   "outputs": [],
   "source": [
    "higher_threshold = {'BB.TO': 20, 'CGX.TO': 16.5, 'BDLP.TO': 20}\n",
    "lower_threshold = {'BB.TO': 10, 'CGX.TO': 15, 'BDLP.TO': 30}\n",
    "report_ticker = ['BB.TO', 'CGX.TO', 'L.TO', 'BDLP.TO']\n",
    "\n",
    "download_list = list(set(list(higher_threshold.keys()) + list(lower_threshold.keys()) + report_ticker))"
   ]
  },
  {
   "cell_type": "code",
   "execution_count": 76,
   "metadata": {},
   "outputs": [],
   "source": []
  },
  {
   "cell_type": "code",
   "execution_count": 77,
   "metadata": {},
   "outputs": [],
   "source": [
    "ticker = 'CGX.TO'\n",
    "df1 = stock_data[ticker].reset_index()\n",
    "df1['index'] = pd.to_datetime(df1['index'])\n",
    "df1.set_index('index', inplace=True)\n",
    "\n",
    "weekly_close = df1.resample('W')['close'].mean().tail(52)\n",
    "current_close = weekly_close.iloc[-1]"
   ]
  },
  {
   "cell_type": "code",
   "execution_count": 78,
   "metadata": {},
   "outputs": [],
   "source": [
    "arr = (weekly_close>weekly_close.shift(1)).astype(int).iloc[::-1].values\n",
    "\n",
    "if np.any(arr==0):\n",
    "    consecutive_week_high = np.where(arr==0)[0][0]\n",
    "else:\n",
    "    consecutive_week_high = np.where(arr==0)[0][0]\n",
    "\n",
    "ma50 = stock_data[ticker].iloc[0:50]['close'].mean()\n",
    "ma200 = stock_data[ticker].iloc[0:200]['close'].mean()"
   ]
  },
  {
   "cell_type": "code",
   "execution_count": 95,
   "metadata": {},
   "outputs": [
    {
     "name": "stdout",
     "output_type": "stream",
     "text": [
      "CGX.TO\n",
      "MA50: 100000.000000\n",
      "MA200: 10.468800\n",
      "Consecutive Weeks High: 4\n"
     ]
    }
   ],
   "source": [
    "str1 = f\"{ticker}\\nMA50: {ma50:2f}\\nMA200: {ma200:2f}\\nConsecutive Weeks High: {consecutive_week_high}\"\n",
    "print(\"\\n\\n\".join([str1]))"
   ]
  },
  {
   "cell_type": "code",
   "execution_count": 96,
   "metadata": {},
   "outputs": [
    {
     "data": {
      "text/html": [
       "<div>\n",
       "<style scoped>\n",
       "    .dataframe tbody tr th:only-of-type {\n",
       "        vertical-align: middle;\n",
       "    }\n",
       "\n",
       "    .dataframe tbody tr th {\n",
       "        vertical-align: top;\n",
       "    }\n",
       "\n",
       "    .dataframe thead th {\n",
       "        text-align: right;\n",
       "    }\n",
       "</style>\n",
       "<table border=\"1\" class=\"dataframe\">\n",
       "  <thead>\n",
       "    <tr style=\"text-align: right;\">\n",
       "      <th></th>\n",
       "      <th>open</th>\n",
       "      <th>high</th>\n",
       "      <th>low</th>\n",
       "      <th>close</th>\n",
       "      <th>volume</th>\n",
       "    </tr>\n",
       "  </thead>\n",
       "  <tbody>\n",
       "    <tr>\n",
       "      <th>2021-06-08</th>\n",
       "      <td>16.30</td>\n",
       "      <td>16.65</td>\n",
       "      <td>16.11</td>\n",
       "      <td>16.40</td>\n",
       "      <td>1348641</td>\n",
       "    </tr>\n",
       "    <tr>\n",
       "      <th>2021-06-07</th>\n",
       "      <td>16.10</td>\n",
       "      <td>16.67</td>\n",
       "      <td>16.05</td>\n",
       "      <td>16.15</td>\n",
       "      <td>1248500</td>\n",
       "    </tr>\n",
       "    <tr>\n",
       "      <th>2021-06-04</th>\n",
       "      <td>15.85</td>\n",
       "      <td>16.08</td>\n",
       "      <td>15.61</td>\n",
       "      <td>15.96</td>\n",
       "      <td>812400</td>\n",
       "    </tr>\n",
       "    <tr>\n",
       "      <th>2021-06-03</th>\n",
       "      <td>15.98</td>\n",
       "      <td>16.40</td>\n",
       "      <td>15.58</td>\n",
       "      <td>15.89</td>\n",
       "      <td>1451700</td>\n",
       "    </tr>\n",
       "    <tr>\n",
       "      <th>2021-06-02</th>\n",
       "      <td>16.00</td>\n",
       "      <td>16.00</td>\n",
       "      <td>15.47</td>\n",
       "      <td>15.91</td>\n",
       "      <td>1151700</td>\n",
       "    </tr>\n",
       "    <tr>\n",
       "      <th>...</th>\n",
       "      <td>...</td>\n",
       "      <td>...</td>\n",
       "      <td>...</td>\n",
       "      <td>...</td>\n",
       "      <td>...</td>\n",
       "    </tr>\n",
       "    <tr>\n",
       "      <th>2005-01-10</th>\n",
       "      <td>14.81</td>\n",
       "      <td>15.20</td>\n",
       "      <td>14.80</td>\n",
       "      <td>14.90</td>\n",
       "      <td>212194</td>\n",
       "    </tr>\n",
       "    <tr>\n",
       "      <th>2005-01-07</th>\n",
       "      <td>14.76</td>\n",
       "      <td>14.99</td>\n",
       "      <td>14.76</td>\n",
       "      <td>14.86</td>\n",
       "      <td>23813</td>\n",
       "    </tr>\n",
       "    <tr>\n",
       "      <th>2005-01-06</th>\n",
       "      <td>14.75</td>\n",
       "      <td>14.95</td>\n",
       "      <td>14.75</td>\n",
       "      <td>14.75</td>\n",
       "      <td>29786</td>\n",
       "    </tr>\n",
       "    <tr>\n",
       "      <th>2005-01-05</th>\n",
       "      <td>14.70</td>\n",
       "      <td>14.76</td>\n",
       "      <td>14.70</td>\n",
       "      <td>14.75</td>\n",
       "      <td>94650</td>\n",
       "    </tr>\n",
       "    <tr>\n",
       "      <th>2005-01-04</th>\n",
       "      <td>14.79</td>\n",
       "      <td>14.85</td>\n",
       "      <td>14.70</td>\n",
       "      <td>14.70</td>\n",
       "      <td>16188</td>\n",
       "    </tr>\n",
       "  </tbody>\n",
       "</table>\n",
       "<p>4126 rows × 5 columns</p>\n",
       "</div>"
      ],
      "text/plain": [
       "             open   high    low  close   volume\n",
       "2021-06-08  16.30  16.65  16.11  16.40  1348641\n",
       "2021-06-07  16.10  16.67  16.05  16.15  1248500\n",
       "2021-06-04  15.85  16.08  15.61  15.96   812400\n",
       "2021-06-03  15.98  16.40  15.58  15.89  1451700\n",
       "2021-06-02  16.00  16.00  15.47  15.91  1151700\n",
       "...           ...    ...    ...    ...      ...\n",
       "2005-01-10  14.81  15.20  14.80  14.90   212194\n",
       "2005-01-07  14.76  14.99  14.76  14.86    23813\n",
       "2005-01-06  14.75  14.95  14.75  14.75    29786\n",
       "2005-01-05  14.70  14.76  14.70  14.75    94650\n",
       "2005-01-04  14.79  14.85  14.70  14.70    16188\n",
       "\n",
       "[4126 rows x 5 columns]"
      ]
     },
     "execution_count": 96,
     "metadata": {},
     "output_type": "execute_result"
    }
   ],
   "source": [
    "stock_data[ticker]"
   ]
  },
  {
   "cell_type": "code",
   "execution_count": 94,
   "metadata": {},
   "outputs": [
    {
     "name": "stdout",
     "output_type": "stream",
     "text": [
      "CGX.TO\n",
      "MA50: 13.376000\n",
      "MA200: 10.468800\n",
      "Consecutive Weeks High: 4\n",
      "\n",
      "CGX.TO\n",
      "MA50: 13.376000\n",
      "MA200: 10.468800\n",
      "Consecutive Weeks High: 4\n"
     ]
    }
   ],
   "source": [
    "lower_report_list = [] \n",
    "for key, value in lower_threshold.items():\n",
    "    "
   ]
  },
  {
   "cell_type": "markdown",
   "metadata": {},
   "source": [
    "#### Sending Notification Email"
   ]
  },
  {
   "cell_type": "code",
   "execution_count": null,
   "metadata": {},
   "outputs": [],
   "source": [
    "sender = \"tuateststock@outlook.com\" \n",
    "receiver = \"wongsangaroon@gmail.com\"\n",
    "password = (\"ImTestingStocks123\") \n",
    "message = f'From: {sender}\\nTo: {receiver}\\nSubject: Stock Alert!!\\n\\nI Made It WORKKK!!\\n'"
   ]
  },
  {
   "cell_type": "code",
   "execution_count": null,
   "metadata": {},
   "outputs": [],
   "source": [
    "\n",
    "server = smtplib.SMTP('smtp-mail.outlook.com', 587)\n",
    "server.starttls()\n",
    "server.login(sender, password)\n",
    "print(\"Login Success\")\n",
    "server.sendmail(sender, receiver, msg = message) \n",
    "print(\"Email was sent\")\n",
    "server.close()"
   ]
  },
  {
   "cell_type": "code",
   "execution_count": null,
   "metadata": {},
   "outputs": [],
   "source": []
  }
 ],
 "metadata": {
  "kernelspec": {
   "display_name": "Python 3",
   "language": "python",
   "name": "python3"
  },
  "language_info": {
   "codemirror_mode": {
    "name": "ipython",
    "version": 3
   },
   "file_extension": ".py",
   "mimetype": "text/x-python",
   "name": "python",
   "nbconvert_exporter": "python",
   "pygments_lexer": "ipython3",
   "version": "3.8.5"
  }
 },
 "nbformat": 4,
 "nbformat_minor": 4
}
