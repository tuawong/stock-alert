{
 "cells": [
  {
   "cell_type": "code",
   "execution_count": 1,
   "metadata": {},
   "outputs": [],
   "source": [
    "from __future__ import annotations\n",
    "\n",
    "from pathlib import Path\n",
    "WORK_DIR = Path.cwd()\n",
    "\n",
    "import numpy as np\n",
    "import pandas as pd\n",
    "import requests\n",
    "\n",
    "import matplotlib.pyplot as plt\n",
    "import seaborn as sns\n",
    "from tqdm import tqdm\n",
    "\n",
    "import smtplib"
   ]
  },
  {
   "cell_type": "markdown",
   "metadata": {},
   "source": [
    "## Testing Alpha Vantage API"
   ]
  },
  {
   "cell_type": "code",
   "execution_count": 2,
   "metadata": {},
   "outputs": [],
   "source": [
    "from alpha_vantage.timeseries import TimeSeries\n",
    "\n",
    "ts = TimeSeries(key='UX2OT39HH6HK14LB')\n",
    "data, meta_data = ts.get_intraday('AAPL')"
   ]
  },
  {
   "cell_type": "code",
   "execution_count": 3,
   "metadata": {},
   "outputs": [],
   "source": [
    "import numpy as np\n",
    "import pandas as pd\n",
    "import requests\n",
    "import time\n",
    "\n",
    "class AlphaVantageDataLoader():\n",
    "    def __init__(\n",
    "                 self, \n",
    "                 key: str):\n",
    "        self.key=key\n",
    "\n",
    "    \n",
    "    def load_stock_data(self,\n",
    "        tickers: list = [],\n",
    "        frequency: str = 'daily', \n",
    "        output_size: str = 'full'\n",
    "        ) -> dict: \n",
    "\n",
    "        freq_dict = {'intraday': 'TIME_SERIES_INTRADAY',\n",
    "                     'daily': 'TIME_SERIES_DAILY',\n",
    "                     'weekly': 'TIME_SERIES_WEEKLY',\n",
    "                     'monthly': 'TIME_SERIES_MONTHLY'}\n",
    "        \n",
    "        if type(tickers) == str:\n",
    "            tickers = [tickers]\n",
    "\n",
    "        start = time.time()\n",
    "        meta_dict = {} \n",
    "        df_dict = {}\n",
    "        count=0\n",
    "        \n",
    "        for num, ticker in tqdm(enumerate(tickers)):\n",
    "            link = f'https://www.alphavantage.co/query?function={freq_dict[frequency]}&symbol={ticker}&outputsize={output_size}&apikey={self.key}'\n",
    "            stock = requests.get(link)\n",
    "            keys_list = list(stock.json().keys())\n",
    "            \n",
    "            try:\n",
    "                data, metadata = stock.json()[keys_list[-1]], stock.json()[keys_list[0]]\n",
    "\n",
    "                df = pd.DataFrame(data).T\n",
    "                df.columns = [col.split(' ')[-1] for col in df.columns]\n",
    "                df = df.apply(pd.to_numeric)\n",
    "\n",
    "                meta_dict[ticker] = meta_data\n",
    "                df_dict[ticker]= df\n",
    "                count+=1\n",
    "            except:\n",
    "                pass\n",
    "\n",
    "            #Alpha Vantage only allows 5 API call per minute\n",
    "            if (count+1)%5==0: \n",
    "                end = time.time()\n",
    "                wait_time = (start+60) - end\n",
    "                time.sleep(wait_time)\n",
    "                start = time.time()\n",
    "        \n",
    "        self.meta = meta_dict\n",
    "\n",
    "        return df_dict\n"
   ]
  },
  {
   "cell_type": "code",
   "execution_count": 4,
   "metadata": {},
   "outputs": [],
   "source": [
    "ticker = pd.read_csv(WORK_DIR/'TSX.txt', sep='\\t')"
   ]
  },
  {
   "cell_type": "code",
   "execution_count": 5,
   "metadata": {},
   "outputs": [],
   "source": [
    "import random\n",
    "\n",
    "ticker_list = ticker.loc[(~ticker.Symbol.str.contains('PR'))&\n",
    "                           (~ticker.Description.str.contains('ETF'))&\n",
    "                           (~ticker.Description.str.contains('Fund'))&\n",
    "                           (~ticker.Description.str.contains('hdg'))]['Symbol'].tolist()\n",
    "\n",
    "sampled_ticker = random.sample(ticker_list, 10)"
   ]
  },
  {
   "cell_type": "code",
   "execution_count": 6,
   "metadata": {},
   "outputs": [],
   "source": [
    "# Initially wanted to use intraday data but intraday from alpha vantage doesn't seem to work for canadian stocks\n",
    "loader = AlphaVantageDataLoader(key='UX2OT39HH6HK14LB')\n",
    "#stock_data = loader.load_stock_data(tickers=sampled_ticker)"
   ]
  },
  {
   "cell_type": "code",
   "execution_count": 7,
   "metadata": {},
   "outputs": [
    {
     "data": {
      "text/plain": [
       "['SBR.TO',\n",
       " 'OTEX.TO',\n",
       " 'TCT.UN.TO',\n",
       " 'ENB.PF.G.TO',\n",
       " 'ERE.UN.TO',\n",
       " 'RS.TO',\n",
       " 'CTX.TO',\n",
       " 'BK.TO',\n",
       " 'TECK.B.TO',\n",
       " 'CWB.TO']"
      ]
     },
     "execution_count": 7,
     "metadata": {},
     "output_type": "execute_result"
    }
   ],
   "source": [
    "sampled_ticker"
   ]
  },
  {
   "cell_type": "markdown",
   "metadata": {},
   "source": [
    "### Value Threshold Announcement`"
   ]
  },
  {
   "cell_type": "code",
   "execution_count": 78,
   "metadata": {},
   "outputs": [],
   "source": [
    "higher_threshold = {'BB.TO': 20, 'CGX.TO': 16.5, 'BDLP.TO': 20}\n",
    "lower_threshold = {'BB.TO': 10, 'CGX.TO': 15, 'BDLP.TO': 30}\n",
    "report_ticker = ['BB.TO', 'CGX.TO', 'L.TO', 'BDLP.TO']\n",
    "\n",
    "download_list = list(set(list(higher_threshold.keys()) + list(lower_threshold.keys()) + report_ticker))"
   ]
  },
  {
   "cell_type": "code",
   "execution_count": 9,
   "metadata": {},
   "outputs": [
    {
     "name": "stderr",
     "output_type": "stream",
     "text": [
      "4it [00:10,  2.64s/it]\n"
     ]
    }
   ],
   "source": [
    "# Initially wanted to use intraday data but intraday from alpha vantage doesn't seem to work for canadian stocks\n",
    "loader = AlphaVantageDataLoader(key='UX2OT39HH6HK14LB')\n",
    "stock_data = loader.load_stock_data(tickers=download_list)"
   ]
  },
  {
   "cell_type": "code",
   "execution_count": 79,
   "metadata": {},
   "outputs": [],
   "source": [
    "stock_report = [] \n",
    "lower_threshold_report = [] \n",
    "higher_threshold_report = []\n",
    "\n",
    "for ticker in stock_data.keys():\n",
    "    df1 = stock_data[ticker].reset_index()\n",
    "    df1['index'] = pd.to_datetime(df1['index'])\n",
    "    df1.set_index('index', inplace=True)\n",
    "\n",
    "    weekly_close = df1.resample('W')['close'].mean().tail(52)\n",
    "    current_close = weekly_close.iloc[-1]\n",
    "    \n",
    "    arr = (weekly_close>weekly_close.shift(1)).astype(int).iloc[::-1].values\n",
    "\n",
    "    if np.any(arr==0):\n",
    "        consecutive_week_high = np.where(arr==0)[0][0]\n",
    "    else:\n",
    "        consecutive_week_high = np.where(arr==0)[0][0]\n",
    "    \n",
    "    delta = (stock_data[ticker].iloc[0]['close'] - stock_data[ticker].iloc[1]['close'])/stock_data[ticker].iloc[1]['close']*100\n",
    "    close_price = stock_data[ticker].iloc[0]['close']\n",
    "    ma50 = stock_data[ticker].iloc[0:50]['close'].mean()\n",
    "    ma200 = stock_data[ticker].iloc[0:200]['close'].mean()\n",
    "    str1 = f\"{ticker}\\nClose Price: {close_price}\\n% Changes: {delta:.2f}%\\nMA50: {ma50:.2f}\\nMA200: {ma200:.2f}\\nConsecutive Weeks High: {consecutive_week_high}\"\n",
    "    stock_report.append(str1)\n",
    "    \n",
    "################## Checking Threshold #################\n",
    "for ticker, value in higher_threshold.items():\n",
    "    if ticker in stock_data.keys():\n",
    "        close_price = stock_data[ticker].iloc[0]['close']\n",
    "        if close_price>value:\n",
    "            str1 = f\"{ticker}: Closing Price {close_price:.2f}CAD is above threshold of {value:.2f}CAD\"\n",
    "            higher_threshold_report.append(str1)\n",
    "\n",
    "for ticker, value in lower_threshold.items():\n",
    "    if ticker in stock_data.keys():\n",
    "        close_price = stock_data[ticker].iloc[0]['close']\n",
    "        if close_price<value:\n",
    "            str1 = f\"{ticker}: Closing Price {close_price:.2f}CAD is below threshold of {value:.2f}CAD\"\n",
    "            lower_threshold_report.append(str1)\n",
    "            \n",
    "missing_list = [ticker for ticker in download_list if ticker not in stock_data.keys()]"
   ]
  },
  {
   "cell_type": "code",
   "execution_count": 80,
   "metadata": {},
   "outputs": [
    {
     "data": {
      "text/plain": [
       "[]"
      ]
     },
     "execution_count": 80,
     "metadata": {},
     "output_type": "execute_result"
    }
   ],
   "source": [
    "higher_threshold_report"
   ]
  },
  {
   "cell_type": "code",
   "execution_count": 81,
   "metadata": {},
   "outputs": [
    {
     "data": {
      "text/plain": [
       "[]"
      ]
     },
     "execution_count": 81,
     "metadata": {},
     "output_type": "execute_result"
    }
   ],
   "source": [
    "lower_threshold_report"
   ]
  },
  {
   "cell_type": "code",
   "execution_count": 82,
   "metadata": {},
   "outputs": [],
   "source": [
    "output_list = [] \n",
    "\n",
    "joined_report = \"\\n\\n\".join(stock_report)\n",
    "\n",
    "output_list.append(joined_report)\n",
    "if len(higher_threshold_report)>0:\n",
    "    output_list.append(\"\\n\".join(higher_threshold_report))\n",
    "    \n",
    "if len(lower_threshold_report)>0:\n",
    "    output_list.append(\"\\n\".join(lower_threshold_report))\n",
    "    \n",
    "output_list.append(f'{\", \".join(missing_list)} are missing')\n",
    "output = '\\n\\n#################################################################\\n\\n'.join(output_list)"
   ]
  },
  {
   "cell_type": "code",
   "execution_count": 84,
   "metadata": {},
   "outputs": [
    {
     "name": "stdout",
     "output_type": "stream",
     "text": [
      "CGX.TO\n",
      "Close Price: 16.39\n",
      "% Changes: 1.05%\n",
      "MA50: 13.64\n",
      "MA200: 10.58\n",
      "Consecutive Weeks High: 4\n",
      "\n",
      "L.TO\n",
      "Close Price: 76.0\n",
      "% Changes: -0.13%\n",
      "MA50: 71.77\n",
      "MA200: 67.23\n",
      "Consecutive Weeks High: 6\n",
      "\n",
      "BB.TO\n",
      "Close Price: 17.21\n",
      "% Changes: 2.38%\n",
      "MA50: 12.07\n",
      "MA200: 10.65\n",
      "Consecutive Weeks High: 4\n",
      "\n",
      "#################################################################\n",
      "\n",
      "BDLP.TO are missing\n"
     ]
    }
   ],
   "source": [
    "print(output)"
   ]
  },
  {
   "cell_type": "markdown",
   "metadata": {},
   "source": [
    "#### Sending Notification Email"
   ]
  },
  {
   "cell_type": "code",
   "execution_count": null,
   "metadata": {},
   "outputs": [],
   "source": [
    "sender = \"tuateststock@outlook.com\" \n",
    "receiver = \"wongsangaroon@gmail.com\"\n",
    "password = (\"ImTestingStocks123\") \n",
    "message = f'From: {sender}\\nTo: {receiver}\\nSubject: Stock Alert!!\\n\\nI Made It WORKKK!!\\n'"
   ]
  },
  {
   "cell_type": "code",
   "execution_count": null,
   "metadata": {},
   "outputs": [],
   "source": [
    "\n",
    "server = smtplib.SMTP('smtp-mail.outlook.com', 587)\n",
    "server.starttls()\n",
    "server.login(sender, password)\n",
    "print(\"Login Success\")\n",
    "server.sendmail(sender, receiver, msg = message) \n",
    "print(\"Email was sent\")\n",
    "server.close()"
   ]
  },
  {
   "cell_type": "code",
   "execution_count": null,
   "metadata": {},
   "outputs": [],
   "source": []
  }
 ],
 "metadata": {
  "kernelspec": {
   "display_name": "Python 3",
   "language": "python",
   "name": "python3"
  },
  "language_info": {
   "codemirror_mode": {
    "name": "ipython",
    "version": 3
   },
   "file_extension": ".py",
   "mimetype": "text/x-python",
   "name": "python",
   "nbconvert_exporter": "python",
   "pygments_lexer": "ipython3",
   "version": "3.8.5"
  }
 },
 "nbformat": 4,
 "nbformat_minor": 4
}
