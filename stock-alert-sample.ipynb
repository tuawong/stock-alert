{
 "cells": [
  {
   "cell_type": "code",
   "execution_count": 37,
   "metadata": {},
   "outputs": [],
   "source": [
    "from __future__ import annotations\n",
    "\n",
    "from pathlib import Path\n",
    "WORK_DIR = Path.cwd()\n",
    "\n",
    "import numpy as np\n",
    "import pandas as pd\n",
    "import requests\n",
    "\n",
    "import matplotlib.pyplot as plt\n",
    "import seaborn as sns\n",
    "from tqdm import tqdm\n",
    "\n",
    "import smtplib"
   ]
  },
  {
   "cell_type": "markdown",
   "metadata": {},
   "source": [
    "## Testing Alpha Vantage API"
   ]
  },
  {
   "cell_type": "code",
   "execution_count": null,
   "metadata": {},
   "outputs": [],
   "source": [
    "from alpha_vantage.timeseries import TimeSeries\n",
    "\n",
    "ts = TimeSeries(key='UX2OT39HH6HK14LB')\n",
    "data, meta_data = ts.get_intraday('AAPL')"
   ]
  },
  {
   "cell_type": "code",
   "execution_count": 42,
   "metadata": {},
   "outputs": [],
   "source": [
    "import numpy as np\n",
    "import pandas as pd\n",
    "import requests\n",
    "import time\n",
    "\n",
    "class AlphaVantageDataLoader():\n",
    "    def __init__(\n",
    "                 self, \n",
    "                 key: str):\n",
    "        self.key=key\n",
    "\n",
    "    \n",
    "    def load_stock_data(self,\n",
    "        tickers: list = [],\n",
    "        frequency: str = 'daily', \n",
    "        output_size: str = 'full'\n",
    "        ) -> dict: \n",
    "\n",
    "        freq_dict = {'intraday': 'TIME_SERIES_INTRADAY',\n",
    "                     'daily': 'TIME_SERIES_DAILY',\n",
    "                     'weekly': 'TIME_SERIES_WEEKLY',\n",
    "                     'monthly': 'TIME_SERIES_MONTHLY'}\n",
    "        \n",
    "        if type(tickers) == str:\n",
    "            tickers = [tickers]\n",
    "\n",
    "        start = time.time()\n",
    "        meta_dict = {} \n",
    "        df_dict = {}\n",
    "        count=0\n",
    "        \n",
    "        for num, ticker in tqdm(enumerate(tickers)):\n",
    "            link = f'https://www.alphavantage.co/query?function={freq_dict[frequency]}&symbol={ticker}&outputsize={output_size}&apikey={self.key}'\n",
    "            stock = requests.get(link)\n",
    "            keys_list = list(stock.json().keys())\n",
    "            \n",
    "            try:\n",
    "                data, metadata = stock.json()[keys_list[-1]], stock.json()[keys_list[0]]\n",
    "\n",
    "                df = pd.DataFrame(data).T\n",
    "                df.columns = [col.split(' ')[-1] for col in df.columns]\n",
    "                df = df.apply(pd.to_numeric)\n",
    "\n",
    "                meta_dict[ticker] = meta_data\n",
    "                df_dict[ticker]= df\n",
    "                count+=1\n",
    "            except:\n",
    "                pass\n",
    "\n",
    "            #Alpha Vantage only allows 5 API call per minute\n",
    "            if (count+1)%5==0: \n",
    "                end = time.time()\n",
    "                wait_time = (start+60) - end\n",
    "                time.sleep(wait_time)\n",
    "                start = time.time()\n",
    "        \n",
    "        self.meta = meta_dict\n",
    "\n",
    "        return df_dict\n"
   ]
  },
  {
   "cell_type": "code",
   "execution_count": 38,
   "metadata": {},
   "outputs": [],
   "source": [
    "ticker = pd.read_csv(WORK_DIR/'TSX.txt', sep='\\t')"
   ]
  },
  {
   "cell_type": "code",
   "execution_count": 43,
   "metadata": {},
   "outputs": [],
   "source": [
    "import random\n",
    "\n",
    "ticker_list = ticker.loc[(~ticker.Symbol.str.contains('PR'))&\n",
    "                           (~ticker.Description.str.contains('ETF'))&\n",
    "                           (~ticker.Description.str.contains('Fund'))&\n",
    "                           (~ticker.Description.str.contains('hdg'))]['Symbol'].tolist()\n",
    "\n",
    "sampled_ticker = random.sample(ticker_list, 10)"
   ]
  },
  {
   "cell_type": "code",
   "execution_count": 44,
   "metadata": {},
   "outputs": [
    {
     "name": "stderr",
     "output_type": "stream",
     "text": [
      "10it [02:00, 12.00s/it]\n"
     ]
    }
   ],
   "source": [
    "# Initially wanted to use intraday data but intraday from alpha vantage doesn't seem to work for canadian stocks\n",
    "loader = AlphaVantageDataLoader(key='UX2OT39HH6HK14LB')\n",
    "stock_data = loader.load_stock_data(tickers=sampled_ticker)"
   ]
  },
  {
   "cell_type": "code",
   "execution_count": 47,
   "metadata": {},
   "outputs": [
    {
     "data": {
      "text/plain": [
       "['XTG.TO',\n",
       " 'ET.TO',\n",
       " 'NVO.WT.TO',\n",
       " 'SGQ.TO',\n",
       " 'BAM.PF.H.TO',\n",
       " 'AHC.WT.TO',\n",
       " 'LWRK.TO',\n",
       " 'LEV.TO',\n",
       " 'PSD.TO',\n",
       " 'BBD.B.TO']"
      ]
     },
     "execution_count": 47,
     "metadata": {},
     "output_type": "execute_result"
    }
   ],
   "source": [
    "sampled_ticker"
   ]
  },
  {
   "cell_type": "code",
   "execution_count": 46,
   "metadata": {},
   "outputs": [
    {
     "data": {
      "text/plain": [
       "dict_keys(['XTG.TO', 'ET.TO', 'SGQ.TO', 'PSD.TO'])"
      ]
     },
     "execution_count": 46,
     "metadata": {},
     "output_type": "execute_result"
    }
   ],
   "source": [
    "stock_data.keys()"
   ]
  },
  {
   "cell_type": "code",
   "execution_count": 65,
   "metadata": {},
   "outputs": [],
   "source": [
    "link = f'https://www.alphavantage.co/query?function=OVERVIEW&symbol=PSD.TO&apikey=UX2OT39HH6HK14LB'\n",
    "stock = requests.get(link)"
   ]
  },
  {
   "cell_type": "code",
   "execution_count": 66,
   "metadata": {},
   "outputs": [
    {
     "data": {
      "text/plain": [
       "{}"
      ]
     },
     "execution_count": 66,
     "metadata": {},
     "output_type": "execute_result"
    }
   ],
   "source": [
    "stock.json()"
   ]
  },
  {
   "cell_type": "code",
   "execution_count": 43,
   "metadata": {},
   "outputs": [],
   "source": [
    "# Initially wanted to use intraday data but intraday from alpha vantage doesn't seem to work for canadian stocks\n",
    "loader = AlphaVantageDataLoader(key='UX2OT39HH6HK14LB')\n",
    "stock_data = loader.load_stock_data(tickers=['DOL.TO', 'BB.TO'])"
   ]
  },
  {
   "cell_type": "code",
   "execution_count": 47,
   "metadata": {},
   "outputs": [
    {
     "data": {
      "text/html": [
       "<div>\n",
       "<style scoped>\n",
       "    .dataframe tbody tr th:only-of-type {\n",
       "        vertical-align: middle;\n",
       "    }\n",
       "\n",
       "    .dataframe tbody tr th {\n",
       "        vertical-align: top;\n",
       "    }\n",
       "\n",
       "    .dataframe thead th {\n",
       "        text-align: right;\n",
       "    }\n",
       "</style>\n",
       "<table border=\"1\" class=\"dataframe\">\n",
       "  <thead>\n",
       "    <tr style=\"text-align: right;\">\n",
       "      <th></th>\n",
       "      <th>open</th>\n",
       "      <th>high</th>\n",
       "      <th>low</th>\n",
       "      <th>close</th>\n",
       "      <th>volume</th>\n",
       "    </tr>\n",
       "  </thead>\n",
       "  <tbody>\n",
       "    <tr>\n",
       "      <th>2021-05-27</th>\n",
       "      <td>53.6600</td>\n",
       "      <td>54.0150</td>\n",
       "      <td>52.5900</td>\n",
       "      <td>52.7000</td>\n",
       "      <td>4031224</td>\n",
       "    </tr>\n",
       "    <tr>\n",
       "      <th>2021-05-26</th>\n",
       "      <td>53.5100</td>\n",
       "      <td>54.3200</td>\n",
       "      <td>53.1300</td>\n",
       "      <td>53.7000</td>\n",
       "      <td>828000</td>\n",
       "    </tr>\n",
       "    <tr>\n",
       "      <th>2021-05-25</th>\n",
       "      <td>53.6100</td>\n",
       "      <td>53.7100</td>\n",
       "      <td>52.7100</td>\n",
       "      <td>53.3100</td>\n",
       "      <td>725000</td>\n",
       "    </tr>\n",
       "    <tr>\n",
       "      <th>2021-05-21</th>\n",
       "      <td>54.2600</td>\n",
       "      <td>54.2800</td>\n",
       "      <td>53.3200</td>\n",
       "      <td>53.3800</td>\n",
       "      <td>588800</td>\n",
       "    </tr>\n",
       "    <tr>\n",
       "      <th>2021-05-20</th>\n",
       "      <td>53.4300</td>\n",
       "      <td>54.3700</td>\n",
       "      <td>53.2500</td>\n",
       "      <td>54.2300</td>\n",
       "      <td>826600</td>\n",
       "    </tr>\n",
       "    <tr>\n",
       "      <th>...</th>\n",
       "      <td>...</td>\n",
       "      <td>...</td>\n",
       "      <td>...</td>\n",
       "      <td>...</td>\n",
       "      <td>...</td>\n",
       "    </tr>\n",
       "    <tr>\n",
       "      <th>2009-10-16</th>\n",
       "      <td>3.1267</td>\n",
       "      <td>3.1267</td>\n",
       "      <td>3.0433</td>\n",
       "      <td>3.0833</td>\n",
       "      <td>2872200</td>\n",
       "    </tr>\n",
       "    <tr>\n",
       "      <th>2009-10-15</th>\n",
       "      <td>3.1583</td>\n",
       "      <td>3.1650</td>\n",
       "      <td>3.1133</td>\n",
       "      <td>3.1200</td>\n",
       "      <td>2167200</td>\n",
       "    </tr>\n",
       "    <tr>\n",
       "      <th>2009-10-14</th>\n",
       "      <td>3.1817</td>\n",
       "      <td>3.2050</td>\n",
       "      <td>3.1183</td>\n",
       "      <td>3.1583</td>\n",
       "      <td>2547000</td>\n",
       "    </tr>\n",
       "    <tr>\n",
       "      <th>2009-10-13</th>\n",
       "      <td>3.2500</td>\n",
       "      <td>3.2733</td>\n",
       "      <td>3.1667</td>\n",
       "      <td>3.1767</td>\n",
       "      <td>6267000</td>\n",
       "    </tr>\n",
       "    <tr>\n",
       "      <th>2009-10-09</th>\n",
       "      <td>3.0750</td>\n",
       "      <td>3.3483</td>\n",
       "      <td>3.0750</td>\n",
       "      <td>3.2483</td>\n",
       "      <td>38118600</td>\n",
       "    </tr>\n",
       "  </tbody>\n",
       "</table>\n",
       "<p>2918 rows × 5 columns</p>\n",
       "</div>"
      ],
      "text/plain": [
       "               open     high      low    close    volume\n",
       "2021-05-27  53.6600  54.0150  52.5900  52.7000   4031224\n",
       "2021-05-26  53.5100  54.3200  53.1300  53.7000    828000\n",
       "2021-05-25  53.6100  53.7100  52.7100  53.3100    725000\n",
       "2021-05-21  54.2600  54.2800  53.3200  53.3800    588800\n",
       "2021-05-20  53.4300  54.3700  53.2500  54.2300    826600\n",
       "...             ...      ...      ...      ...       ...\n",
       "2009-10-16   3.1267   3.1267   3.0433   3.0833   2872200\n",
       "2009-10-15   3.1583   3.1650   3.1133   3.1200   2167200\n",
       "2009-10-14   3.1817   3.2050   3.1183   3.1583   2547000\n",
       "2009-10-13   3.2500   3.2733   3.1667   3.1767   6267000\n",
       "2009-10-09   3.0750   3.3483   3.0750   3.2483  38118600\n",
       "\n",
       "[2918 rows x 5 columns]"
      ]
     },
     "execution_count": 47,
     "metadata": {},
     "output_type": "execute_result"
    }
   ],
   "source": [
    "list(stock_data.values())[0]"
   ]
  },
  {
   "cell_type": "markdown",
   "metadata": {},
   "source": [
    "#### Sending Notification Email"
   ]
  },
  {
   "cell_type": "code",
   "execution_count": 30,
   "metadata": {},
   "outputs": [],
   "source": [
    "sender = \"tuateststock@outlook.com\" \n",
    "receiver = \"wongsangaroon@gmail.com\"\n",
    "password = (\"ImTestingStocks123\") \n",
    "message = f'From: {sender}\\nTo: {receiver}\\nSubject: Stock Alert!!\\n\\nI Made It WORKKK!!\\n'"
   ]
  },
  {
   "cell_type": "code",
   "execution_count": null,
   "metadata": {},
   "outputs": [],
   "source": [
    "\n",
    "server = smtplib.SMTP('smtp-mail.outlook.com', 587)\n",
    "server.starttls()\n",
    "server.login(sender, password)\n",
    "print(\"Login Success\")\n",
    "server.sendmail(sender, receiver, msg = message) \n",
    "print(\"Email was sent\")\n",
    "server.close()"
   ]
  },
  {
   "cell_type": "code",
   "execution_count": 45,
   "metadata": {},
   "outputs": [],
   "source": []
  }
 ],
 "metadata": {
  "kernelspec": {
   "display_name": "Python 3",
   "language": "python",
   "name": "python3"
  },
  "language_info": {
   "codemirror_mode": {
    "name": "ipython",
    "version": 3
   },
   "file_extension": ".py",
   "mimetype": "text/x-python",
   "name": "python",
   "nbconvert_exporter": "python",
   "pygments_lexer": "ipython3",
   "version": "3.8.3"
  }
 },
 "nbformat": 4,
 "nbformat_minor": 4
}
