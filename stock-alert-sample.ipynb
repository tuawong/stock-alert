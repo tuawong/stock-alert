{
 "cells": [
  {
   "cell_type": "code",
   "execution_count": 40,
   "metadata": {},
   "outputs": [],
   "source": [
    "from __future__ import annotations\n",
    "\n",
    "import numpy as np\n",
    "import pandas as pd\n",
    "import requests\n",
    "\n",
    "import matplotlib.pyplot as plt\n",
    "import seaborn as sns\n",
    "\n",
    "import smtplib"
   ]
  },
  {
   "cell_type": "markdown",
   "metadata": {},
   "source": [
    "## Testing Alpha Vantage API"
   ]
  },
  {
   "cell_type": "code",
   "execution_count": 2,
   "metadata": {},
   "outputs": [],
   "source": [
    "from alpha_vantage.timeseries import TimeSeries\n",
    "\n",
    "ts = TimeSeries(key='UX2OT39HH6HK14LB')\n",
    "data, meta_data = ts.get_intraday('AAPL')"
   ]
  },
  {
   "cell_type": "code",
   "execution_count": 38,
   "metadata": {},
   "outputs": [],
   "source": [
    "import numpy as np\n",
    "import pandas as pd\n",
    "import requests\n",
    "import time\n",
    "\n",
    "class AlphaVantageDataLoader():\n",
    "    def __init__(\n",
    "                 self, \n",
    "                 key: str):\n",
    "        self.key=key\n",
    "\n",
    "    \n",
    "    def load_stock_data(self,\n",
    "        tickers: list = [],\n",
    "        frequency: str = 'daily', \n",
    "        output_size: str = 'full'\n",
    "        ) -> dict: \n",
    "\n",
    "        freq_dict = {'intraday': 'TIME_SERIES_INTRADAY',\n",
    "                     'daily': 'TIME_SERIES_DAILY',\n",
    "                     'weekly': 'TIME_SERIES_WEEKLY',\n",
    "                     'monthly': 'TIME_SERIES_MONTHLY'}\n",
    "        \n",
    "        if type(tickers) == str:\n",
    "            tickers = [tickers]\n",
    "\n",
    "        start = time.time()\n",
    "        meta_dict = {} \n",
    "        df_dict = {}\n",
    "        for num, ticker in enumerate(tickers):\n",
    "            link = f'https://www.alphavantage.co/query?function={freq_dict[frequency]}&symbol={ticker}&outputsize={output_size}&apikey={self.key}'\n",
    "            stock = requests.get(link)\n",
    "            keys_list = list(stock.json().keys())\n",
    "            data, metadata = stock.json()[keys_list[-1]], stock.json()['Meta Data']\n",
    "\n",
    "            df = pd.DataFrame(data).T\n",
    "            df.columns = [col.split(' ')[-1] for col in df.columns]\n",
    "            df = df.apply(pd.to_numeric)\n",
    "            \n",
    "            meta_dict[ticker] = meta_data\n",
    "            df_dict[ticker]= df\n",
    "\n",
    "            #Alpha Vantage only allows 5 API call per minute\n",
    "            if (num+1)%5==0: \n",
    "                end = time.time()\n",
    "                wait_time = (start+60) - end\n",
    "                time.sleep(wait_time)\n",
    "                start = time.time()\n",
    "        \n",
    "        self.meta = meta_dict\n",
    "\n",
    "        return df_dict\n"
   ]
  },
  {
   "cell_type": "code",
   "execution_count": 39,
   "metadata": {},
   "outputs": [],
   "source": [
    "loader = AlphaVantageDataLoader(key='UX2OT39HH6HK14LB')\n",
    "stocks =  loader.load_stock_data(tickers = ['AAPL', 'CGX.TO'])"
   ]
  },
  {
   "cell_type": "code",
   "execution_count": 26,
   "metadata": {},
   "outputs": [],
   "source": [
    "import requests\n",
    "stock = requests.get('https://www.alphavantage.co/query?function=TIME_SERIES_DAILY&symbol=CGX.TO&outputsize=full&apikey=UX2OT39HH6HK14LB')\n",
    "data, metadata = stock.json()['Time Series (Daily)'], stock.json()['Meta Data']"
   ]
  },
  {
   "cell_type": "code",
   "execution_count": null,
   "metadata": {},
   "outputs": [],
   "source": []
  },
  {
   "cell_type": "code",
   "execution_count": null,
   "metadata": {},
   "outputs": [],
   "source": [
    "sender_email = \"tuateststock@outlook.com\" \n",
    "rec_email = \"wongsangaroon@gmail.com\"\n",
    "password = (\"ImTestingStocks123\") \n",
    "message = \"MSFT STOCK ALERT!!! The stock is at above price you set \" + \"%.6f\" % last_price  #The message you want to send"
   ]
  },
  {
   "cell_type": "code",
   "execution_count": null,
   "metadata": {},
   "outputs": [],
   "source": []
  }
 ],
 "metadata": {
  "kernelspec": {
   "display_name": "Python 3",
   "language": "python",
   "name": "python3"
  },
  "language_info": {
   "codemirror_mode": {
    "name": "ipython",
    "version": 3
   },
   "file_extension": ".py",
   "mimetype": "text/x-python",
   "name": "python",
   "nbconvert_exporter": "python",
   "pygments_lexer": "ipython3",
   "version": "3.8.5"
  }
 },
 "nbformat": 4,
 "nbformat_minor": 4
}
