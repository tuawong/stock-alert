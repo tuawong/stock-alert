{
 "cells": [
  {
   "cell_type": "code",
   "execution_count": 1,
   "metadata": {},
   "outputs": [],
   "source": [
    "from __future__ import annotations\n",
    "\n",
    "from pathlib import Path\n",
    "WORK_DIR = Path.cwd()\n",
    "\n",
    "import numpy as np\n",
    "import pandas as pd\n",
    "import requests\n",
    "\n",
    "import matplotlib.pyplot as plt\n",
    "import seaborn as sns\n",
    "from tqdm import tqdm\n",
    "\n",
    "import smtplib"
   ]
  },
  {
   "cell_type": "markdown",
   "metadata": {},
   "source": [
    "## Testing Alpha Vantage API"
   ]
  },
  {
   "cell_type": "code",
   "execution_count": 2,
   "metadata": {},
   "outputs": [],
   "source": [
    "from alpha_vantage.timeseries import TimeSeries\n",
    "\n",
    "ts = TimeSeries(key='UX2OT39HH6HK14LB')\n",
    "data, meta_data = ts.get_intraday('AAPL')"
   ]
  },
  {
   "cell_type": "code",
   "execution_count": 3,
   "metadata": {},
   "outputs": [],
   "source": [
    "import numpy as np\n",
    "import pandas as pd\n",
    "import requests\n",
    "import time\n",
    "\n",
    "class AlphaVantageDataLoader():\n",
    "    def __init__(\n",
    "                 self, \n",
    "                 key: str):\n",
    "        \n",
    "        self.key=key\n",
    "        self.tickers = pickle.load(open('updated_TSX_ticker.pkl', 'rb'))\n",
    "\n",
    "    \n",
    "    def load_stock_data(self,\n",
    "        tickers: list = [],\n",
    "        frequency: str = 'daily', \n",
    "        output_size: str = 'full'\n",
    "        ) -> dict: \n",
    "\n",
    "        freq_dict = {'intraday': 'TIME_SERIES_INTRADAY',\n",
    "                     'daily': 'TIME_SERIES_DAILY',\n",
    "                     'weekly': 'TIME_SERIES_WEEKLY',\n",
    "                     'monthly': 'TIME_SERIES_MONTHLY'}\n",
    "        \n",
    "        if type(tickers) == str:\n",
    "            tickers = [tickers]\n",
    "\n",
    "        start = time.time()\n",
    "        meta_dict = {} \n",
    "        df_dict = {}\n",
    "        count=0\n",
    "        \n",
    "        for num, ticker in tqdm(enumerate(tickers)):\n",
    "            link = f'https://www.alphavantage.co/query?function={freq_dict[frequency]}&symbol={ticker}&outputsize={output_size}&apikey={self.key}'\n",
    "            stock = requests.get(link)\n",
    "            keys_list = list(stock.json().keys())\n",
    "            \n",
    "            try:\n",
    "                data, metadata = stock.json()[keys_list[-1]], stock.json()[keys_list[0]]\n",
    "\n",
    "                df = pd.DataFrame(data).T\n",
    "                df.columns = [col.split(' ')[-1] for col in df.columns]\n",
    "                df = df.apply(pd.to_numeric)\n",
    "\n",
    "                meta_dict[ticker] = meta_data\n",
    "                df_dict[ticker]= df\n",
    "                count+=1\n",
    "            except:\n",
    "                pass\n",
    "\n",
    "            #Alpha Vantage only allows 5 API call per minute\n",
    "            if (count+1)%5==0: \n",
    "                end = time.time()\n",
    "                wait_time = (start+60) - end\n",
    "                time.sleep(wait_time)\n",
    "                start = time.time()\n",
    "        \n",
    "        self.meta = meta_dict\n",
    "        self.loaded_data = df_dict\n",
    "        return df_dict\n",
    "    \n"
   ]
  },
  {
   "cell_type": "code",
   "execution_count": 4,
   "metadata": {},
   "outputs": [],
   "source": []
  },
  {
   "cell_type": "code",
   "execution_count": 51,
   "metadata": {},
   "outputs": [],
   "source": [
    "import random\n",
    "import pickle\n",
    "\n",
    "ticker = pd.read_csv(WORK_DIR/'TSX.txt', sep='\\t')\n",
    "ticker_list = ticker.loc[(~ticker.Symbol.str.contains('PR'))&\n",
    "                           (~ticker.Description.str.contains('ETF'))&\n",
    "                           (~ticker.Description.str.contains('Fund'))&\n",
    "                           (~ticker.Description.str.contains('hdg'))]['Symbol'].tolist()\n",
    "\n",
    "name_reference = ticker.set_index('Symbol')['Description'].T.to_dict()\n",
    "sampled_ticker = random.sample(ticker_list, 10)\n",
    "\n",
    "update_dict = {'TECK-B.TO': 'Teck Resources'}\n",
    "name_reference.update(update_dict)\n",
    "pickle.dump(name_reference, open('updated_TSX_ticker.pkl', 'wb'))"
   ]
  },
  {
   "cell_type": "code",
   "execution_count": 6,
   "metadata": {},
   "outputs": [],
   "source": [
    "# Initially wanted to use intraday data but intraday from alpha vantage doesn't seem to work for canadian stocks\n",
    "loader = AlphaVantageDataLoader(key='UX2OT39HH6HK14LB')\n",
    "#stock_data = loader.load_stock_data(tickers=sampled_ticker)"
   ]
  },
  {
   "cell_type": "markdown",
   "metadata": {},
   "source": [
    "### Value Threshold Announcement`"
   ]
  },
  {
   "cell_type": "code",
   "execution_count": 64,
   "metadata": {},
   "outputs": [],
   "source": [
    "def generate_report(stock_data, higher_threshold=None, lower_threshold=None):\n",
    "    stock_report = [] \n",
    "    lower_threshold_report = [] \n",
    "    higher_threshold_report = []\n",
    "    \n",
    "    name_reference = pickle.load(open('updated_TSX_ticker.pkl', 'rb'))\n",
    "    \n",
    "    for ticker in stock_data.keys():\n",
    "        df1 = stock_data[ticker].reset_index()\n",
    "        df1['index'] = pd.to_datetime(df1['index'])\n",
    "        df1.set_index('index', inplace=True)\n",
    "\n",
    "        weekly_close = df1.resample('W')['close'].mean().tail(52)\n",
    "        current_close = weekly_close.iloc[-1]\n",
    "\n",
    "        arr = (weekly_close>weekly_close.shift(1)).astype(int).iloc[::-1].values\n",
    "\n",
    "        if np.any(arr==0):\n",
    "            consecutive_week_high = np.where(arr==0)[0][0]\n",
    "        else:\n",
    "            consecutive_week_high = np.where(arr==0)[0][0]\n",
    "\n",
    "        date = stock_data[ticker].index[0]\n",
    "        delta = (stock_data[ticker].iloc[0]['close'] - stock_data[ticker].iloc[1]['close'])/stock_data[ticker].iloc[1]['close']*100\n",
    "        close_price = stock_data[ticker].iloc[0]['close']\n",
    "        ma50 = stock_data[ticker].iloc[0:50]['close'].mean()\n",
    "        ma50_pct = (close_price - ma50)/ma50  * 100\n",
    "\n",
    "        ma200 = stock_data[ticker].iloc[0:200]['close'].mean()\n",
    "        ma200_pct = (close_price - ma200)/ma200 * 100\n",
    "\n",
    "        try: \n",
    "            ticker_name = name_reference[ticker]\n",
    "        except:\n",
    "            ticker_name = 'Name Missing'\n",
    "\n",
    "        str1 = f\"{ticker_name} ({ticker}): {date}\\nClose Price: {close_price}\\n% Changes: {delta:.2f}%\\nMA50: {ma50:.2f} ({ma50_pct:.2f}%)\\nMA200: {ma200:.2f} ({ma200_pct:.2f}%)\\nConsecutive Weeks High: {consecutive_week_high}\"\n",
    "\n",
    "        #Sorting report by stock with highest consecutive week high to get a pulse on good growth stock\n",
    "        stock_report.append((consecutive_week_high, str1))\n",
    "\n",
    "    sorted_list = sorted(stock_report, key=lambda x: x[0], reverse=True)\n",
    "    stock_report = [x[1] for x in sorted_list]\n",
    "    \n",
    "    ################## Checking Threshold #################\n",
    "    if higher_threshold is not None:\n",
    "        for ticker, value in higher_threshold.items():\n",
    "            if ticker in stock_data.keys():\n",
    "                close_price = stock_data[ticker].iloc[0]['close']\n",
    "                if close_price>value:\n",
    "                    str1 = f\"{name_reference[ticker]} ({ticker}): Closing Price {close_price:.2f}CAD is above threshold of {value:.2f}CAD\"\n",
    "                    higher_threshold_report.append(str1)\n",
    "    if lower_threshold is not None:\n",
    "        for ticker, value in lower_threshold.items():\n",
    "            if ticker in stock_data.keys():\n",
    "                close_price = stock_data[ticker].iloc[0]['close']\n",
    "                if close_price<value:\n",
    "                    str1 = f\"{name_reference[ticker]} ({ticker}): Closing Price {close_price:.2f}CAD is below threshold of {value:.2f}CAD\"\n",
    "                    lower_threshold_report.append(str1)\n",
    "    \n",
    "    ################## Finding Missing Stock Tickers #############################\n",
    "    missing_list = [ticker for ticker in download_list if ticker not in stock_data.keys()]\n",
    "    \n",
    "    ################## Combing all sections into a single report #################\n",
    "    output_list = [] \n",
    "\n",
    "    joined_report = \"\\n\\n\".join(stock_report)\n",
    "\n",
    "    output_list.append(joined_report)\n",
    "    if len(higher_threshold_report)>0:\n",
    "        output_list.append(\"\\n\".join(higher_threshold_report))\n",
    "\n",
    "    if len(lower_threshold_report)>0:\n",
    "        output_list.append(\"\\n\".join(lower_threshold_report))\n",
    "\n",
    "    output_list.append(f'{\", \".join(missing_list)} are missing')\n",
    "    output = '\\n\\n#################################################################\\n\\n'.join(output_list)\n",
    "    \n",
    "    return output"
   ]
  },
  {
   "cell_type": "code",
   "execution_count": 77,
   "metadata": {},
   "outputs": [],
   "source": [
    "sampled_ticker = random.sample(ticker_list, 40)\n"
   ]
  },
  {
   "cell_type": "code",
   "execution_count": 78,
   "metadata": {},
   "outputs": [],
   "source": [
    "higher_threshold = {'BB.TO': 20, 'CGX.TO': 16.5, 'BDLP.TO': 20}\n",
    "lower_threshold = {'BB.TO': 10, 'CGX.TO': 15, 'BDLP.TO': 30}\n",
    "report_ticker = ['BB.TO', 'CGX.TO', 'L.TO', 'BDLP.TO', 'TECK-B.TO'] + sampled_ticker\n",
    "\n",
    "download_list = list(set(list(higher_threshold.keys()) + list(lower_threshold.keys()) + report_ticker))"
   ]
  },
  {
   "cell_type": "code",
   "execution_count": 80,
   "metadata": {},
   "outputs": [
    {
     "name": "stderr",
     "output_type": "stream",
     "text": [
      "45it [01:24,  1.89s/it]\n"
     ]
    }
   ],
   "source": [
    "# Initially wanted to use intraday data but intraday from alpha vantage doesn't seem to work for canadian stocks\n",
    "loader = AlphaVantageDataLoader(key='UX2OT39HH6HK14LB')\n",
    "stock_data = loader.load_stock_data(tickers=download_list)"
   ]
  },
  {
   "cell_type": "code",
   "execution_count": 81,
   "metadata": {},
   "outputs": [],
   "source": [
    "output = generate_report(stock_data, higher_threshold = higher_threshold, lower_threshold = lower_threshold)"
   ]
  },
  {
   "cell_type": "code",
   "execution_count": 82,
   "metadata": {},
   "outputs": [
    {
     "name": "stdout",
     "output_type": "stream",
     "text": [
      "Blackberry Limited (BB.TO): 2021-06-11\n",
      "Close Price: 17.21\n",
      "% Changes: 2.38%\n",
      "MA50: 12.07 (42.54%)\n",
      "MA200: 10.65 (61.63%)\n",
      "Consecutive Weeks High: 4\n",
      "\n",
      "Talon Metals Corp (TLO.TO): 2021-06-11\n",
      "Close Price: 0.64\n",
      "% Changes: 1.59%\n",
      "MA50: 0.64 (0.09%)\n",
      "MA200: 0.50 (27.61%)\n",
      "Consecutive Weeks High: 3\n",
      "\n",
      "Algonquin Power and Utilities Corp (AQN.TO): 2021-06-11\n",
      "Close Price: 19.46\n",
      "% Changes: 0.99%\n",
      "MA50: 19.44 (0.08%)\n",
      "MA200: 20.12 (-3.29%)\n",
      "Consecutive Weeks High: 3\n",
      "\n",
      "Sustainable Power Infra Split Corp Cl A (PWI.TO): 2021-06-11\n",
      "Close Price: 9.55\n",
      "% Changes: 0.53%\n",
      "MA50: 9.45 (1.10%)\n",
      "MA200: 9.45 (1.10%)\n",
      "Consecutive Weeks High: 1\n",
      "\n",
      "Apollo Healthcare Corp. (AHC.TO): 2021-06-11\n",
      "Close Price: 3.17\n",
      "% Changes: -2.46%\n",
      "MA50: 3.66 (-13.33%)\n",
      "MA200: 4.08 (-22.21%)\n",
      "Consecutive Weeks High: 1\n",
      "\n",
      "Purp Gold Bullion Tu (KILO.TO): 2021-06-11\n",
      "Close Price: 28.49\n",
      "% Changes: -1.04%\n",
      "MA50: 27.65 (3.05%)\n",
      "MA200: 28.29 (0.71%)\n",
      "Consecutive Weeks High: 0\n",
      "\n",
      "Aimia Inc (AIM.TO): 2021-06-11\n",
      "Close Price: 4.77\n",
      "% Changes: -0.21%\n",
      "MA50: 4.92 (-3.01%)\n",
      "MA200: 4.30 (10.89%)\n",
      "Consecutive Weeks High: 0\n",
      "\n",
      "Jaguar Mining Inc (JAG.TO): 2021-06-11\n",
      "Close Price: 6.26\n",
      "% Changes: -3.25%\n",
      "MA50: 6.67 (-6.17%)\n",
      "MA200: 7.48 (-16.30%)\n",
      "Consecutive Weeks High: 0\n",
      "\n",
      "#################################################################\n",
      "\n",
      "OR.DB.TO, ASM.TO, TSU.TO, CLMT.TO, SVM.TO, ENGH.TO, BRY.TO, CGX.TO, ACQ.TO, VCM.TO, CERV.TO, NAC.U.TO, AH.WT.TO, STN.TO, MTL.TO, MND.TO, ACB.WT.V.TO, CP.TO, ICE.TO, IFA.TO, SXP.TO, UTE.UN.TO, AI.TO, MSI.TO, TVE.TO, EXN.TO, CARE.TO, SLS.TO, CRRX.TO, L.TO, CRON.TO, FRU.TO, QSR.TO, BDLP.TO, TUSB.TO, FSZ.DB.A.TO, TECK-B.TO are missing\n"
     ]
    }
   ],
   "source": [
    "print(output)"
   ]
  },
  {
   "cell_type": "markdown",
   "metadata": {},
   "source": [
    "#### Sending Notification Email"
   ]
  },
  {
   "cell_type": "code",
   "execution_count": 83,
   "metadata": {},
   "outputs": [],
   "source": [
    "sender = \"tuateststock@outlook.com\" \n",
    "receiver = \"wongsangaroon@yahoo.co.th\"\n",
    "password = (\"ImTestingStocks123\") \n",
    "message = output"
   ]
  },
  {
   "cell_type": "code",
   "execution_count": 84,
   "metadata": {},
   "outputs": [
    {
     "name": "stdout",
     "output_type": "stream",
     "text": [
      "Login Success\n",
      "Email was sent\n"
     ]
    }
   ],
   "source": [
    "server = smtplib.SMTP('smtp-mail.outlook.com', 587)\n",
    "server.starttls()\n",
    "server.login(sender, password)\n",
    "print(\"Login Success\")\n",
    "server.sendmail(sender, receiver, msg = message) \n",
    "print(\"Email was sent\")\n",
    "server.close()"
   ]
  },
  {
   "cell_type": "code",
   "execution_count": null,
   "metadata": {},
   "outputs": [],
   "source": []
  }
 ],
 "metadata": {
  "kernelspec": {
   "display_name": "Python 3",
   "language": "python",
   "name": "python3"
  },
  "language_info": {
   "codemirror_mode": {
    "name": "ipython",
    "version": 3
   },
   "file_extension": ".py",
   "mimetype": "text/x-python",
   "name": "python",
   "nbconvert_exporter": "python",
   "pygments_lexer": "ipython3",
   "version": "3.8.5"
  }
 },
 "nbformat": 4,
 "nbformat_minor": 4
}
